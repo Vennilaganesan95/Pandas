{
 "cells": [
  {
   "cell_type": "code",
   "execution_count": 16,
   "id": "c9d0d5d7",
   "metadata": {},
   "outputs": [
    {
     "name": "stdout",
     "output_type": "stream",
     "text": [
      "Sales Data:\n",
      "   Product     Category  Price  Quantity Sold         City\n",
      "0  Laptop  Electronics    900             50     New York\n",
      "1    Sofa    Furniture   1200             20      Chicago\n",
      "2   Phone  Electronics    700            120  Los Angeles\n",
      "3   Table    Furniture    300             45     New York\n",
      "4   Chair    Furniture    150             80      Chicago\n",
      "5      TV  Electronics   1100             60  Los Angeles\n",
      "\n",
      "High-Selling Products:\n",
      "   Product     Category  Price  Quantity Sold         City\n",
      "2   Phone  Electronics    700            120  Los Angeles\n",
      "4   Chair    Furniture    150             80      Chicago\n",
      "5      TV  Electronics   1100             60  Los Angeles\n",
      "\n",
      "Sales from New York:\n",
      "   Product     Category  Price  Quantity Sold      City\n",
      "0  Laptop  Electronics    900             50  New York\n",
      "3   Table    Furniture    300             45  New York\n",
      "\n",
      "Products in Price Range 300–1000:\n",
      "   Product     Category  Price  Quantity Sold         City\n",
      "0  Laptop  Electronics    900             50     New York\n",
      "2   Phone  Electronics    700            120  Los Angeles\n",
      "3   Table    Furniture    300             45     New York\n"
     ]
    }
   ],
   "source": [
    "import pandas as pd\n",
    "\n",
    "# Sample dataset\n",
    "data = {\n",
    "    \"Product\": [\"Laptop\", \"Sofa\", \"Phone\", \"Table\", \"Chair\", \"TV\"],\n",
    "    \"Category\": [\"Electronics\", \"Furniture\", \"Electronics\", \"Furniture\", \"Furniture\", \"Electronics\"],\n",
    "    \"Price\": [900, 1200, 700, 300, 150, 1100],\n",
    "    \"Quantity Sold\": [50, 20, 120, 45, 80, 60],\n",
    "    \"City\": [\"New York\", \"Chicago\", \"Los Angeles\", \"New York\", \"Chicago\", \"Los Angeles\"]\n",
    "}\n",
    "\n",
    "df = pd.DataFrame(data)\n",
    "\n",
    "print(\"Sales Data:\\n\", df)\n",
    "\n",
    "high_selling = df[df[\"Quantity Sold\"] > 50]\n",
    "print(\"\\nHigh-Selling Products:\\n\", high_selling)\n",
    "\n",
    "ny_sales = df[df[\"City\"] == \"New York\"]\n",
    "print(\"\\nSales from New York:\\n\", ny_sales)\n",
    "\n",
    "price_range = df[(df[\"Price\"] >= 300) & (df[\"Price\"] <= 1000)]\n",
    "print(\"\\nProducts in Price Range 300–1000:\\n\", price_range)\n",
    "\n"
   ]
  },
  {
   "cell_type": "code",
   "execution_count": 17,
   "id": "2a160f67",
   "metadata": {},
   "outputs": [
    {
     "name": "stdout",
     "output_type": "stream",
     "text": [
      "  Product     Category  Price  Quantity Sold         City\n",
      "0  Laptop  Electronics    900             50     New York\n",
      "1    Sofa    Furniture   1200             20      Chicago\n",
      "2   Phone  Electronics    700            120  Los Angeles\n",
      "\n",
      "   Product     Category  Price  Quantity Sold      City\n",
      "0  Laptop  Electronics    900             50  New York\n",
      "1    Sofa    Furniture   1200             20   Chicago\n",
      "3   Table    Furniture    300             45  New York\n",
      "4   Chair    Furniture    150             80   Chicago\n",
      "\n",
      "   Product     Category  Price  Quantity Sold         City\n",
      "2   Phone  Electronics    700            120  Los Angeles\n",
      "3   Table    Furniture    300             45     New York\n",
      "\n",
      "             Category  Price  Quantity Sold         City\n",
      "Product                                                \n",
      "Laptop   Electronics    900             50     New York\n",
      "Sofa       Furniture   1200             20      Chicago\n",
      "Phone    Electronics    700            120  Los Angeles\n",
      "Table      Furniture    300             45     New York\n",
      "Chair      Furniture    150             80      Chicago\n",
      "TV       Electronics   1100             60  Los Angeles\n",
      "\n",
      "   Product     Category  Price  Quantity Sold         City\n",
      "0  Laptop  Electronics    900             50     New York\n",
      "1    Sofa    Furniture   1200             20      Chicago\n",
      "2   Phone  Electronics    700            120  Los Angeles\n",
      "3   Table    Furniture    300             45     New York\n",
      "4   Chair    Furniture    150             80      Chicago\n",
      "5      TV  Electronics   1100             60  Los Angeles\n"
     ]
    }
   ],
   "source": [
    "df_first_3 = df.iloc[:3]\n",
    "print(df_first_3)\n",
    "\n",
    "filtered_cities = df[df[\"City\"].isin([\"New York\", \"Chicago\"])] \n",
    "print(\"\\n\", filtered_cities)\n",
    "\n",
    "mid_price_products = df[df[\"Price\"].between(200, 800)] \n",
    "print(\"\\n\",mid_price_products)\n",
    "\n",
    "df_indexed = df.set_index(\"Product\") \n",
    "print(\"\\n\",df_indexed)\n",
    "\n",
    "df_reset = df_indexed.reset_index() \n",
    "print(\"\\n\",df_reset)"
   ]
  }
 ],
 "metadata": {
  "kernelspec": {
   "display_name": "Python 3",
   "language": "python",
   "name": "python3"
  },
  "language_info": {
   "codemirror_mode": {
    "name": "ipython",
    "version": 3
   },
   "file_extension": ".py",
   "mimetype": "text/x-python",
   "name": "python",
   "nbconvert_exporter": "python",
   "pygments_lexer": "ipython3",
   "version": "3.13.5"
  }
 },
 "nbformat": 4,
 "nbformat_minor": 5
}
