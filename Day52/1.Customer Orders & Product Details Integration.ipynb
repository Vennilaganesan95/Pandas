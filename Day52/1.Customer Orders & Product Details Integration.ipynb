{
 "cells": [
  {
   "cell_type": "code",
   "execution_count": 9,
   "id": "4d8e6cc8",
   "metadata": {},
   "outputs": [
    {
     "name": "stdout",
     "output_type": "stream",
     "text": [
      "✅ Sample data CSV files created\n",
      "\n",
      "Merged Orders with Product Details:\n",
      "    CustomerID  ProductID ProductName\n",
      "0         101          1      Laptop\n",
      "1         102          2  Smartphone\n",
      "2         103          3  Headphones\n",
      "3         104          4     Monitor\n",
      "4         105          5    Keyboard\n",
      "\n",
      "All Orders after concatenation:\n",
      "    CustomerID  ProductID\n",
      "0         101          1\n",
      "1         102          2\n",
      "2         103          3\n",
      "3         104          4\n",
      "4         105          5\n",
      "5         106          3\n",
      "6         107          5\n",
      "7         108          2\n",
      "\n",
      "Merged All Orders with Product Details (handling duplicates):\n",
      "    CustomerID  ProductID ProductName\n",
      "0         101          1      Laptop\n",
      "1         102          2  Smartphone\n",
      "2         103          3  Headphones\n",
      "3         104          4     Monitor\n",
      "4         105          5    Keyboard\n",
      "5         106          3  Headphones\n",
      "6         107          5    Keyboard\n",
      "7         108          2  Smartphone\n",
      "✅ Final integrated customer orders dataset exported to final_customer_orders.csv\n"
     ]
    }
   ],
   "source": [
    "import pandas as pd\n",
    "\n",
    "customer_orders_data = {\n",
    "    \"CustomerID\": [101,102,103,104,105],\n",
    "    \"ProductID\": [1,2,3,4,5]\n",
    "}\n",
    "df_orders = pd.DataFrame(customer_orders_data)\n",
    "\n",
    "product_details_data = {\n",
    "    \"ProductID\": [1,2,3,4,5],\n",
    "    \"ProductName\": [\"Laptop\",\"Smartphone\",\"Headphones\",\"Monitor\",\"Keyboard\"]\n",
    "}\n",
    "df_products = pd.DataFrame(product_details_data)\n",
    "\n",
    "df_orders.to_csv(\"customer_orders.csv\", index=False)\n",
    "df_products.to_csv(\"product_details.csv\", index=False)\n",
    "print(\"✅ Sample data CSV files created\")\n",
    "\n",
    "\n",
    "\n",
    "# 3️Merge Orders with Product Details\n",
    "df_merged = pd.merge(df_orders, df_products, on=\"ProductID\", how=\"left\")\n",
    "print(\"\\nMerged Orders with Product Details:\\n\", df_merged)\n",
    "\n",
    "# 4️ Concatenate New Monthly Orders\n",
    "\n",
    "new_orders = pd.DataFrame({\n",
    "    \"CustomerID\":[106,107,108],\n",
    "    \"ProductID\":[3,5,2]\n",
    "})\n",
    "df_all_orders = pd.concat([df_orders, new_orders], ignore_index=True)\n",
    "print(\"\\nAll Orders after concatenation:\\n\", df_all_orders)\n",
    "\n",
    "# 5️⃣ Handle Duplicate Columns After Merging\n",
    "df_merged_all = pd.merge(df_all_orders, df_products, on=\"ProductID\", how=\"left\", suffixes=('_order','_product'))\n",
    "print(\"\\nMerged All Orders with Product Details (handling duplicates):\\n\", df_merged_all)\n",
    "\n",
    "# Optional: Export final dataset\n",
    "df_merged_all.to_csv(\"final_customer_orders.csv\", index=False)\n",
    "print(\"✅ Final integrated customer orders dataset exported to final_customer_orders.csv\")\n",
    "\n",
    "\n"
   ]
  }
 ],
 "metadata": {
  "kernelspec": {
   "display_name": "Python 3",
   "language": "python",
   "name": "python3"
  },
  "language_info": {
   "codemirror_mode": {
    "name": "ipython",
    "version": 3
   },
   "file_extension": ".py",
   "mimetype": "text/x-python",
   "name": "python",
   "nbconvert_exporter": "python",
   "pygments_lexer": "ipython3",
   "version": "3.13.5"
  }
 },
 "nbformat": 4,
 "nbformat_minor": 5
}
