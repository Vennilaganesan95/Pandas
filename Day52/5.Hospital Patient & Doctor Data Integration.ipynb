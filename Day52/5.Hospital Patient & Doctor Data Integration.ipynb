{
 "cells": [
  {
   "cell_type": "code",
   "execution_count": 1,
   "id": "90d1d83c",
   "metadata": {},
   "outputs": [
    {
     "name": "stdout",
     "output_type": "stream",
     "text": [
      "✅ Sample hospital data CSV files created\n"
     ]
    }
   ],
   "source": [
    "import pandas as pd\n",
    "\n",
    "patients_data = {\n",
    "    \"PatientID\": [201,202,203,204,205],\n",
    "    \"Name\": [\"Alice\",\"Bob\",\"Charlie\",\"David\",\"Eva\"],\n",
    "    \"Age\": [30,45,25,50,40],\n",
    "    \"Diagnosis\": [\"Flu\",\"Diabetes\",\"Cold\",\"Hypertension\",\"Asthma\"]\n",
    "}\n",
    "df_patients = pd.DataFrame(patients_data)\n",
    "\n",
    "doctors_data = {\n",
    "    \"DoctorID\": [301,302,303,304],\n",
    "    \"DoctorName\": [\"Dr. Smith\",\"Dr. Lee\",\"Dr. Brown\",\"Dr. Taylor\"],\n",
    "    \"Specialization\": [\"General\",\"Endocrinology\",\"Pediatrics\",\"Cardiology\"]\n",
    "}\n",
    "df_doctors = pd.DataFrame(doctors_data)\n",
    "\n",
    "appointments_data = {\n",
    "    \"PatientID\": [201,202,203,204,205,201,203],\n",
    "    \"DoctorID\": [301,302,303,304,301,304,302],\n",
    "    \"Date\": [\"2025-01-05\",\"2025-01-06\",\"2025-01-07\",\"2025-01-08\",\"2025-01-09\",\"2025-01-10\",\"2025-01-11\"],\n",
    "    \"Prescription\": [\"Medicine A\",\"Medicine B\",\"Medicine C\",\"Medicine D\",\"Medicine E\",\"Medicine F\",\"Medicine G\"]\n",
    "}\n",
    "df_appointments = pd.DataFrame(appointments_data)\n",
    "\n",
    "df_patients.to_csv(\"patients.csv\", index=False)\n",
    "df_doctors.to_csv(\"doctors.csv\", index=False)\n",
    "df_appointments.to_csv(\"appointments.csv\", index=False)\n",
    "print(\"✅ Sample hospital data CSV files created\")\n",
    "\n",
    "\n"
   ]
  },
  {
   "cell_type": "code",
   "execution_count": 2,
   "id": "30a8615e",
   "metadata": {},
   "outputs": [
    {
     "name": "stdout",
     "output_type": "stream",
     "text": [
      "\n",
      "Patient + Appointment Records:\n",
      "    PatientID  DoctorID        Date Prescription     Name  Age     Diagnosis\n",
      "0        201       301  2025-01-05   Medicine A    Alice   30           Flu\n",
      "1        202       302  2025-01-06   Medicine B      Bob   45      Diabetes\n",
      "2        203       303  2025-01-07   Medicine C  Charlie   25          Cold\n",
      "3        204       304  2025-01-08   Medicine D    David   50  Hypertension\n",
      "4        205       301  2025-01-09   Medicine E      Eva   40        Asthma\n",
      "5        201       304  2025-01-10   Medicine F    Alice   30           Flu\n",
      "6        203       302  2025-01-11   Medicine G  Charlie   25          Cold\n",
      "\n",
      "Full Patient + Doctor + Appointment Dataset:\n",
      "    PatientID  DoctorID        Date Prescription     Name  Age     Diagnosis  \\\n",
      "0        201       301  2025-01-05   Medicine A    Alice   30           Flu   \n",
      "1        202       302  2025-01-06   Medicine B      Bob   45      Diabetes   \n",
      "2        203       303  2025-01-07   Medicine C  Charlie   25          Cold   \n",
      "3        204       304  2025-01-08   Medicine D    David   50  Hypertension   \n",
      "4        205       301  2025-01-09   Medicine E      Eva   40        Asthma   \n",
      "5        201       304  2025-01-10   Medicine F    Alice   30           Flu   \n",
      "6        203       302  2025-01-11   Medicine G  Charlie   25          Cold   \n",
      "\n",
      "   DoctorName Specialization  \n",
      "0   Dr. Smith        General  \n",
      "1     Dr. Lee  Endocrinology  \n",
      "2   Dr. Brown     Pediatrics  \n",
      "3  Dr. Taylor     Cardiology  \n",
      "4   Dr. Smith        General  \n",
      "5  Dr. Taylor     Cardiology  \n",
      "6     Dr. Lee  Endocrinology  \n",
      "\n",
      "All Patients after concatenation:\n",
      "    PatientID     Name  Age     Diagnosis\n",
      "0        201    Alice   30           Flu\n",
      "1        202      Bob   45      Diabetes\n",
      "2        203  Charlie   25          Cold\n",
      "3        204    David   50  Hypertension\n",
      "4        205      Eva   40        Asthma\n",
      "5        206    Frank   35       Allergy\n",
      "6        207    Grace   28      Migraine\n",
      "✅ Final structured hospital report exported to final_hospital_report.csv\n"
     ]
    }
   ],
   "source": [
    "# 1️ Read all datasets\n",
    "df_patients = pd.read_csv(\"patients.csv\")\n",
    "df_doctors = pd.read_csv(\"doctors.csv\")\n",
    "df_appointments = pd.read_csv(\"appointments.csv\")\n",
    "\n",
    "# 2️ Merge patient and appointment records\n",
    "df_patient_history = pd.merge(df_appointments, df_patients, on=\"PatientID\", how=\"left\")\n",
    "print(\"\\nPatient + Appointment Records:\\n\", df_patient_history)\n",
    "\n",
    "\n",
    "# 3️ Join doctor details with appointment records\n",
    "df_full = pd.merge(df_patient_history, df_doctors, on=\"DoctorID\", how=\"left\", suffixes=('_patient','_doctor'))\n",
    "print(\"\\nFull Patient + Doctor + Appointment Dataset:\\n\", df_full)\n",
    "\n",
    "# 4️ Concatenate new patient registrations\n",
    "new_patients = pd.DataFrame({\n",
    "    \"PatientID\":[206,207],\n",
    "    \"Name\":[\"Frank\",\"Grace\"],\n",
    "    \"Age\":[35,28],\n",
    "    \"Diagnosis\":[\"Allergy\",\"Migraine\"]\n",
    "})\n",
    "df_patients_all = pd.concat([df_patients, new_patients], ignore_index=True)\n",
    "print(\"\\nAll Patients after concatenation:\\n\", df_patients_all)\n",
    "\n",
    "\n",
    "# 5️ Handle duplicate columns\n",
    "# Already handled with suffixes (_patient, _doctor). You can rename for clarity\n",
    "df_full.rename(columns={\"Name_patient\":\"PatientName\",\"Name_doctor\":\"DoctorName\"}, inplace=True)\n",
    "\n",
    "# 6️ Export final structured report\n",
    "df_full.to_csv(\"final_hospital_report.csv\", index=False)\n",
    "print(\"✅ Final structured hospital report exported to final_hospital_report.csv\")\n"
   ]
  }
 ],
 "metadata": {
  "kernelspec": {
   "display_name": "Python 3",
   "language": "python",
   "name": "python3"
  },
  "language_info": {
   "codemirror_mode": {
    "name": "ipython",
    "version": 3
   },
   "file_extension": ".py",
   "mimetype": "text/x-python",
   "name": "python",
   "nbconvert_exporter": "python",
   "pygments_lexer": "ipython3",
   "version": "3.13.5"
  }
 },
 "nbformat": 4,
 "nbformat_minor": 5
}
