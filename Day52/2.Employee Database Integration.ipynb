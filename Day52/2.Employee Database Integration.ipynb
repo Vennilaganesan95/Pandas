{
 "cells": [
  {
   "cell_type": "code",
   "execution_count": 1,
   "id": "8374ddb5",
   "metadata": {},
   "outputs": [
    {
     "name": "stdout",
     "output_type": "stream",
     "text": [
      "✅ Sample employee datasets created\n"
     ]
    }
   ],
   "source": [
    "import pandas as pd\n",
    "\n",
    "employee_details_data = {\n",
    "    \"EmployeeID\": [1,2,3,4,5],\n",
    "    \"Name\": [\"Alice\",\"Bob\",\"Charlie\",\"David\",\"Eva\"],\n",
    "    \"Department\": [\"HR\",\"Finance\",\"IT\",\"Marketing\",\"IT\"]\n",
    "}\n",
    "df_employees = pd.DataFrame(employee_details_data)\n",
    "employee_salary_data = {\n",
    "    \"EmployeeID\": [1,2,3,4],\n",
    "    \"Salary\": [50000,60000,55000,65000]\n",
    "}\n",
    "df_salary = pd.DataFrame(employee_salary_data)\n",
    "\n",
    "df_employees.to_csv(\"employee_details.csv\", index=False)\n",
    "df_salary.to_csv(\"employee_salary.csv\", index=False)\n",
    "print(\"✅ Sample employee datasets created\")\n",
    "\n",
    "\n"
   ]
  },
  {
   "cell_type": "code",
   "execution_count": 2,
   "id": "2c845540",
   "metadata": {},
   "outputs": [
    {
     "name": "stdout",
     "output_type": "stream",
     "text": [
      "\n",
      "Employee Details with Salary:\n",
      "                Name Department   Salary\n",
      "EmployeeID                             \n",
      "1             Alice         HR  50000.0\n",
      "2               Bob    Finance  60000.0\n",
      "3           Charlie         IT  55000.0\n",
      "4             David  Marketing  65000.0\n",
      "5               Eva         IT      NaN\n",
      "\n",
      "After adding new employees:\n",
      "                Name Department   Salary\n",
      "EmployeeID                             \n",
      "1             Alice         HR  50000.0\n",
      "2               Bob    Finance  60000.0\n",
      "3           Charlie         IT  55000.0\n",
      "4             David  Marketing  65000.0\n",
      "5               Eva         IT      NaN\n",
      "6             Frank         HR      NaN\n",
      "7             Grace         IT      NaN\n",
      "\n",
      "After filling missing salaries:\n",
      "                Name Department   Salary\n",
      "EmployeeID                             \n",
      "1             Alice         HR  50000.0\n",
      "2               Bob    Finance  60000.0\n",
      "3           Charlie         IT  55000.0\n",
      "4             David  Marketing  65000.0\n",
      "5               Eva         IT      0.0\n",
      "6             Frank         HR      0.0\n",
      "7             Grace         IT      0.0\n",
      "✅ Final integrated employee database exported to final_employee_database.csv\n"
     ]
    }
   ],
   "source": [
    "# 2️ Join Employee Details with Salary\n",
    "\n",
    "df_employees_indexed = df_employees.set_index(\"EmployeeID\")\n",
    "df_salary_indexed = df_salary.set_index(\"EmployeeID\")\n",
    "\n",
    "# Use join() to combine\n",
    "df_employee_full = df_employees_indexed.join(df_salary_indexed, how=\"left\")\n",
    "print(\"\\nEmployee Details with Salary:\\n\", df_employee_full)\n",
    "\n",
    "# 3️ Concatenate New Employee Records\n",
    "\n",
    "new_employees = pd.DataFrame({\n",
    "    \"EmployeeID\": [6,7],\n",
    "    \"Name\": [\"Frank\",\"Grace\"],\n",
    "    \"Department\": [\"HR\",\"IT\"]\n",
    "}).set_index(\"EmployeeID\")\n",
    "\n",
    "df_employee_full = pd.concat([df_employee_full, new_employees], axis=0)\n",
    "print(\"\\nAfter adding new employees:\\n\", df_employee_full)\n",
    "\n",
    "# 4️ Handle Missing Salaries\n",
    "\n",
    "# Fill missing salaries with 0 or a default value\n",
    "df_employee_full[\"Salary\"] = df_employee_full[\"Salary\"].fillna(0)\n",
    "print(\"\\nAfter filling missing salaries:\\n\", df_employee_full)\n",
    "\n",
    "\n",
    "df_employee_full.to_csv(\"final_employee_database.csv\")\n",
    "print(\"✅ Final integrated employee database exported to final_employee_database.csv\")\n"
   ]
  }
 ],
 "metadata": {
  "kernelspec": {
   "display_name": "Python 3",
   "language": "python",
   "name": "python3"
  },
  "language_info": {
   "codemirror_mode": {
    "name": "ipython",
    "version": 3
   },
   "file_extension": ".py",
   "mimetype": "text/x-python",
   "name": "python",
   "nbconvert_exporter": "python",
   "pygments_lexer": "ipython3",
   "version": "3.13.5"
  }
 },
 "nbformat": 4,
 "nbformat_minor": 5
}
