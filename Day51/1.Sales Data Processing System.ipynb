{
 "cells": [
  {
   "cell_type": "code",
   "execution_count": 3,
   "id": "48ed8a26",
   "metadata": {},
   "outputs": [
    {
     "name": "stdout",
     "output_type": "stream",
     "text": [
      "CSV Data:\n",
      "    OrderID     Product     Category  Price  Quantity\n",
      "0      101      Laptop  Electronics    900         1\n",
      "1      102       Shoes      Fashion    120         2\n",
      "2      103        Book        Books     30         3\n",
      "3      104  Smartphone  Electronics    600         1\n",
      "4      105       Jeans      Fashion     80         4\n",
      "   OrderID     Product     Category  Price  Quantity\n",
      "0      101      Laptop  Electronics    900         1\n",
      "1      102       Shoes      Fashion    120         2\n",
      "2      103        Book        Books     30         3\n",
      "3      104  Smartphone  Electronics    600         1\n",
      "4      105       Jeans      Fashion     80         4\n",
      "\n",
      "JSON Data:\n",
      "    OrderID     Product     Category  Price  Quantity\n",
      "0      101      Laptop  Electronics    900         1\n",
      "1      102       Shoes      Fashion    120         2\n",
      "2      103        Book        Books     30         3\n",
      "3      104  Smartphone  Electronics    600         1\n",
      "4      105       Jeans      Fashion     80         4\n",
      "\n",
      "SQL Data:\n",
      "    OrderID     Product     Category  Price  Quantity\n",
      "0      101      Laptop  Electronics    900         1\n",
      "1      102       Shoes      Fashion    120         2\n",
      "2      103        Book        Books     30         3\n",
      "3      104  Smartphone  Electronics    600         1\n",
      "4      105       Jeans      Fashion     80         4\n",
      "\n",
      "Processed Data:\n",
      "    OrderID     Product     Category  Price  Quantity  Total_Revenue\n",
      "0      101      Laptop  Electronics    900         1            900\n",
      "3      104  Smartphone  Electronics    600         1            600\n",
      "1      102       Shoes      Fashion    120         2            240\n",
      "4      105       Jeans      Fashion     80         4            320\n",
      "2      103        Book        Books     30         3             90\n"
     ]
    }
   ],
   "source": [
    "# Step 1: Import Required Libraries\n",
    "import pandas as pd\n",
    "import sqlite3\n",
    "\n",
    "# Step 2: Read Sales Data\n",
    "\n",
    "\n",
    "# 1. Read CSV File\n",
    "df_csv = pd.read_csv(\"sales_data (1).csv\")\n",
    "print(\"CSV Data:\\n\", df_csv.head())\n",
    "\n",
    "# 2. Read Excel File\n",
    "df_excel = pd.read_excel(\"sales_data.xlsx\", sheet_name=\"SalesSheet\")\n",
    "print(df_excel.head())\n",
    "\n",
    "\n",
    "# 3. Read JSON File\n",
    "df_json = pd.read_json(\"sales_data.json\")\n",
    "print(\"\\nJSON Data:\\n\", df_json.head())\n",
    "\n",
    "# 4. Read SQL Database\n",
    "conn = sqlite3.connect(\"sales_data.db\")\n",
    "\n",
    "# Example: create table & insert data if not exists\n",
    "conn.execute(\"\"\"\n",
    "CREATE TABLE IF NOT EXISTS sales (\n",
    "    OrderID INTEGER,\n",
    "    Product TEXT,\n",
    "    Category TEXT,\n",
    "    Price REAL,\n",
    "    Quantity INTEGER\n",
    ")\n",
    "\"\"\")\n",
    "conn.commit()\n",
    "\n",
    "# Read from SQL\n",
    "df_sql = pd.read_sql(\"SELECT * FROM sales\", conn)\n",
    "print(\"\\nSQL Data:\\n\", df_sql.head())\n",
    "\n",
    "# Step 3: Merge & Process Data\n",
    "\n",
    "\n",
    "# Merge all data into one DataFrame\n",
    "df = pd.concat([df_csv, df_excel, df_json, df_sql], ignore_index=True)\n",
    "\n",
    "# Drop duplicates\n",
    "df = df.drop_duplicates()\n",
    "\n",
    "# Sort by Price (descending)\n",
    "df = df.sort_values(by=\"Price\", ascending=False)\n",
    "\n",
    "# Add Total Revenue column\n",
    "df[\"Total_Revenue\"] = df[\"Price\"] * df[\"Quantity\"]\n",
    "\n",
    "print(\"\\nProcessed Data:\\n\", df.head())\n",
    "\n",
    "# Step 4: Export Cleaned Data\n",
    "\n",
    "# Save to CSV\n",
    "df.to_csv(\"cleaned_sales_data.csv\", index=False)\n",
    "\n",
    "# Save to Excel\n",
    "df.to_excel(\"cleaned_sales_data.xlsx\", index=False, sheet_name=\"ProcessedSales\")\n",
    "\n",
    "# Save to JSON\n",
    "df.to_json(\"cleaned_sales_data.json\", orient=\"records\", indent=4)\n",
    "\n",
    "# Save to SQL\n",
    "df.to_sql(\"cleaned_sales_data\", conn, if_exists=\"replace\", index=False)\n",
    "\n",
    "conn.close()\n"
   ]
  },
  {
   "cell_type": "code",
   "execution_count": 4,
   "id": "8388370b",
   "metadata": {},
   "outputs": [
    {
     "name": "stdout",
     "output_type": "stream",
     "text": [
      "Requirement already satisfied: openpyxl in c:\\users\\parth\\appdata\\local\\programs\\python\\python313\\lib\\site-packages (3.1.5)\n",
      "Requirement already satisfied: et-xmlfile in c:\\users\\parth\\appdata\\local\\programs\\python\\python313\\lib\\site-packages (from openpyxl) (2.0.0)\n"
     ]
    },
    {
     "name": "stderr",
     "output_type": "stream",
     "text": [
      "\n",
      "[notice] A new release of pip is available: 25.1.1 -> 25.2\n",
      "[notice] To update, run: python.exe -m pip install --upgrade pip\n"
     ]
    }
   ],
   "source": [
    "!pip install openpyxl\n"
   ]
  }
 ],
 "metadata": {
  "kernelspec": {
   "display_name": "Python 3",
   "language": "python",
   "name": "python3"
  },
  "language_info": {
   "codemirror_mode": {
    "name": "ipython",
    "version": 3
   },
   "file_extension": ".py",
   "mimetype": "text/x-python",
   "name": "python",
   "nbconvert_exporter": "python",
   "pygments_lexer": "ipython3",
   "version": "3.13.5"
  }
 },
 "nbformat": 4,
 "nbformat_minor": 5
}
