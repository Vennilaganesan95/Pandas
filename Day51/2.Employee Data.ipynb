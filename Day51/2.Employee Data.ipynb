{
 "cells": [
  {
   "cell_type": "code",
   "execution_count": 1,
   "id": "085f6e32",
   "metadata": {},
   "outputs": [
    {
     "name": "stdout",
     "output_type": "stream",
     "text": [
      "Total Salary Expense: 1550098\n",
      "<class 'pandas.core.frame.DataFrame'>\n",
      "RangeIndex: 20 entries, 0 to 19\n",
      "Data columns (total 5 columns):\n",
      " #   Column      Non-Null Count  Dtype \n",
      "---  ------      --------------  ----- \n",
      " 0   EmpID       20 non-null     int64 \n",
      " 1   Name        20 non-null     object\n",
      " 2   Department  20 non-null     object\n",
      " 3   Salary      20 non-null     int64 \n",
      " 4   Experience  20 non-null     int64 \n",
      "dtypes: int64(3), object(2)\n",
      "memory usage: 2.8 KB\n",
      "None\n",
      "Data stored successfully in employees.db\n"
     ]
    }
   ],
   "source": [
    "import pandas as pd\n",
    "import pandas as pd\n",
    "\n",
    "# Read large CSV in chunks\n",
    "chunk_size = 1000  # process 1000 rows at a time\n",
    "chunks = pd.read_csv(\"employees.txt\", chunksize=chunk_size)\n",
    "\n",
    "# Example: Calculate total salary from all chunks\n",
    "total_salary = 0\n",
    "for chunk in chunks:\n",
    "    total_salary += chunk[\"Salary\"].sum()\n",
    "\n",
    "print(\"Total Salary Expense:\", total_salary)\n",
    "\n",
    "df = pd.read_csv(\"employees.txt\")\n",
    "print(df.info(memory_usage=\"deep\"))\n",
    "\n",
    "# Remove duplicates\n",
    "df = df.drop_duplicates()\n",
    "\n",
    "# Fill missing salaries with average\n",
    "df[\"Salary\"] = df[\"Salary\"].fillna(df[\"Salary\"].mean())\n",
    "\n",
    "# Convert data types for optimization\n",
    "df[\"Department\"] = df[\"Department\"].astype(\"category\")\n",
    "\n",
    "import sqlite3\n",
    "\n",
    "# Create SQLite connection\n",
    "conn = sqlite3.connect(\"employees.db\")\n",
    "\n",
    "# Save DataFrame to SQL\n",
    "df.to_sql(\"employee_data\", conn, if_exists=\"replace\", index=False)\n",
    "\n",
    "print(\"Data stored successfully in employees.db\")\n",
    "\n",
    "\n"
   ]
  }
 ],
 "metadata": {
  "kernelspec": {
   "display_name": "Python 3",
   "language": "python",
   "name": "python3"
  },
  "language_info": {
   "codemirror_mode": {
    "name": "ipython",
    "version": 3
   },
   "file_extension": ".py",
   "mimetype": "text/x-python",
   "name": "python",
   "nbconvert_exporter": "python",
   "pygments_lexer": "ipython3",
   "version": "3.13.5"
  }
 },
 "nbformat": 4,
 "nbformat_minor": 5
}
