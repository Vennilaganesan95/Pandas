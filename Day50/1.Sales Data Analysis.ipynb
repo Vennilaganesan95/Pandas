{
 "cells": [
  {
   "cell_type": "code",
   "execution_count": 5,
   "id": "82d6e82e",
   "metadata": {},
   "outputs": [
    {
     "name": "stdout",
     "output_type": "stream",
     "text": [
      "  Product     Category Region  Price  Quantity  Discount\n",
      "0   Shirt     Clothing  North   1200         2      0.10\n",
      "1   Jeans     Clothing  South   2500         1      0.15\n",
      "2   Shoes     Footwear   East   3000         1      0.20\n",
      "3   Shirt     Clothing   West   1100         3      0.10\n",
      "4   Shoes     Footwear  North   2800         2      0.05\n",
      "5     Hat  Accessories  South    500         5      0.20\n",
      "6   Jeans     Clothing   East   2600         1      0.15\n",
      "7   Shirt     Clothing   West   1300         4      0.10\n",
      "  Product  Price  Quantity  Discount  Final_Price\n",
      "0   Shirt   1200         2      0.10       2160.0\n",
      "1   Jeans   2500         1      0.15       2125.0\n",
      "2   Shoes   3000         1      0.20       2400.0\n",
      "3   Shirt   1100         3      0.10       2970.0\n",
      "4   Shoes   2800         2      0.05       5320.0\n",
      "5     Hat    500         5      0.20       2000.0\n",
      "6   Jeans   2600         1      0.15       2210.0\n",
      "7   Shirt   1300         4      0.10       4680.0\n",
      "      Category  Total_Sales  Average_Sales  Items_Sold\n",
      "0  Accessories       2000.0         2000.0           5\n",
      "1     Clothing      14145.0         2829.0          11\n",
      "2     Footwear       7720.0         3860.0           3\n",
      "Category  Accessories  Clothing  Footwear\n",
      "Region                                   \n",
      "East              0.0    2210.0    2400.0\n",
      "North             0.0    2160.0    5320.0\n",
      "South          2000.0    2125.0       0.0\n",
      "West              0.0    7650.0       0.0\n",
      "  Product  Total_Sales\n",
      "0   Shirt       9810.0\n",
      "1   Shoes       7720.0\n",
      "2   Jeans       4335.0\n",
      "3     Hat       2000.0\n"
     ]
    }
   ],
   "source": [
    "import pandas as pd\n",
    "\n",
    "# Sample Sales Data\n",
    "data = {\n",
    "    \"Product\": [\"Shirt\", \"Jeans\", \"Shoes\", \"Shirt\", \"Shoes\", \"Hat\", \"Jeans\", \"Shirt\"],\n",
    "    \"Category\": [\"Clothing\", \"Clothing\", \"Footwear\", \"Clothing\", \"Footwear\", \"Accessories\", \"Clothing\", \"Clothing\"],\n",
    "    \"Region\": [\"North\", \"South\", \"East\", \"West\", \"North\", \"South\", \"East\", \"West\"],\n",
    "    \"Price\": [1200, 2500, 3000, 1100, 2800, 500, 2600, 1300],\n",
    "    \"Quantity\": [2, 1, 1, 3, 2, 5, 1, 4],\n",
    "    \"Discount\": [0.10, 0.15, 0.20, 0.10, 0.05, 0.20, 0.15, 0.10]\n",
    "}\n",
    "\n",
    "df = pd.DataFrame(data)\n",
    "print(df)\n",
    "\n",
    "# Final Price after applying discount\n",
    "df[\"Final_Price\"] = df.apply(lambda x: x[\"Price\"] * x[\"Quantity\"] * (1 - x[\"Discount\"]), axis=1)\n",
    "\n",
    "print(df[[\"Product\", \"Price\", \"Quantity\", \"Discount\", \"Final_Price\"]])\n",
    "\n",
    "category_summary = df.groupby(\"Category\").agg(\n",
    "    Total_Sales=(\"Final_Price\", \"sum\"),\n",
    "    Average_Sales=(\"Final_Price\", \"mean\"),\n",
    "    Items_Sold=(\"Quantity\", \"sum\")\n",
    ").reset_index()\n",
    "\n",
    "print(category_summary)\n",
    "\n",
    "pivot_table = pd.pivot_table(\n",
    "    df,\n",
    "    values=\"Final_Price\",\n",
    "    index=\"Region\",\n",
    "    columns=\"Category\",\n",
    "    aggfunc=\"sum\",\n",
    "    fill_value=0\n",
    ")\n",
    "\n",
    "print(pivot_table)\n",
    "\n",
    "best_selling = df.groupby(\"Product\").agg(\n",
    "    Total_Sales=(\"Final_Price\", \"sum\")\n",
    ").sort_values(by=\"Total_Sales\", ascending=False).reset_index()\n",
    "\n",
    "print(best_selling)\n",
    "\n"
   ]
  }
 ],
 "metadata": {
  "kernelspec": {
   "display_name": "Python 3",
   "language": "python",
   "name": "python3"
  },
  "language_info": {
   "codemirror_mode": {
    "name": "ipython",
    "version": 3
   },
   "file_extension": ".py",
   "mimetype": "text/x-python",
   "name": "python",
   "nbconvert_exporter": "python",
   "pygments_lexer": "ipython3",
   "version": "3.13.5"
  }
 },
 "nbformat": 4,
 "nbformat_minor": 5
}
